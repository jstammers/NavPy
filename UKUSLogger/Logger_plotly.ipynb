{
 "cells": [
  {
   "cell_type": "markdown",
   "metadata": {},
   "source": [
    "# Laser Logger"
   ]
  },
  {
   "cell_type": "markdown",
   "metadata": {},
   "source": [
    "This notebook is used to develop and test code to connect to the UKUS laser and log characteristics of each laser"
   ]
  },
  {
   "cell_type": "code",
   "execution_count": 1,
   "metadata": {
    "ExecuteTime": {
     "end_time": "2016-03-28T13:31:27.828000",
     "start_time": "2016-03-28T13:31:27.185000"
    },
    "collapsed": false
   },
   "outputs": [],
   "source": [
    "# -*- coding: utf-8 -*-\n",
    "import telnetlib\n",
    "import datetime \n",
    "import sys\n",
    "import re\n",
    "import os\n",
    "import pandas as pd\n",
    "import numpy as np\n",
    "import time\n",
    "from Queue import Queue,Empty\n",
    "from threading import Thread,Event\n",
    "import paramiko\n",
    "%matplotlib notebook\n",
    "# from plotly.offline import download_plotlyjs, init_notebook_mode, iplot\n",
    "# from plotly.widgets import GraphWidget \n",
    "# import cufflinks as cf\n",
    "# init_notebook_mode()\n",
    "# cf.go_offline()"
   ]
  },
  {
   "cell_type": "code",
   "execution_count": 2,
   "metadata": {
    "collapsed": false
   },
   "outputs": [
    {
     "name": "stdout",
     "output_type": "stream",
     "text": [
      "C:\\Users\\Administrator\\OneDrive - Imperial College London\\Data\\Control_Computer\n"
     ]
    }
   ],
   "source": [
    "cd \"C:\\\\Users\\\\Administrator\\\\OneDrive - Imperial College London\\Data\\Control_Computer\""
   ]
  },
  {
   "cell_type": "code",
   "execution_count": 8,
   "metadata": {
    "collapsed": false
   },
   "outputs": [
    {
     "data": {
      "text/plain": [
       "'C:\\\\Users\\\\Administrator\\\\OneDrive - Imperial College London\\\\Data\\\\Control_Computer'"
      ]
     },
     "execution_count": 8,
     "metadata": {},
     "output_type": "execute_result"
    }
   ],
   "source": [
    "os.getcwd()"
   ]
  },
  {
   "cell_type": "code",
   "execution_count": 3,
   "metadata": {
    "ExecuteTime": {
     "end_time": "2016-03-28T13:31:30.199000",
     "start_time": "2016-03-28T13:31:30.160000"
    },
    "collapsed": false
   },
   "outputs": [],
   "source": [
    "class ssh_control:\n",
    "    def __init__(self,user,password,host='155.198.206.24'):\n",
    "        self.user = user\n",
    "        self.host = host\n",
    "        self.password = password\n",
    "        self.client = self.connect_to_control(user,password)\n",
    "        \n",
    "    def connect_to_control(self,user,passwd):\n",
    "        ssh = paramiko.SSHClient()\n",
    "        ssh.load_system_host_keys()\n",
    "        ssh.set_missing_host_key_policy(paramiko.AutoAddPolicy())\n",
    "        ssh.connect(self.host,username=user,password=passwd)\n",
    "        return ssh\n",
    "    \n",
    "    def __repr__(self):\n",
    "        return 'SSH session - %s@%s'%(self.user,self.host)\n",
    "    \n",
    "    def execute(self,command):\n",
    "        stdin,stdout,stderr = self.client.exec_command(command)\n",
    "        return stdout"
   ]
  },
  {
   "cell_type": "markdown",
   "metadata": {},
   "source": [
    "### Diode Lasers"
   ]
  },
  {
   "cell_type": "markdown",
   "metadata": {},
   "source": [
    "#### Class Structure"
   ]
  },
  {
   "cell_type": "code",
   "execution_count": 4,
   "metadata": {
    "ExecuteTime": {
     "end_time": "2016-03-28T13:31:32.414000",
     "start_time": "2016-03-28T13:31:32.324000"
    },
    "collapsed": false
   },
   "outputs": [],
   "source": [
    "class LaserReader(Thread):\n",
    "\n",
    "    def __init__(self, group=None, target=None, name=None,\n",
    "                 args=(), kwargs=None, verbose=None):\n",
    "        Thread.__init__(self, group=None, target=target, name=name,\n",
    "                                  verbose=verbose)\n",
    "        self.running = True\n",
    "        self.name = name\n",
    "        self.args = args\n",
    "        self.kwargs = kwargs\n",
    "        \n",
    "    def run(self):\n",
    "        out_q = self.kwargs.get('queue')\n",
    "        while self.running:\n",
    "            today = datetime.date.today().strftime(\"%Y/%m/%d\")\n",
    "            if today != self.kwargs['today']:\n",
    "                    self.kwargs['today'] = today\n",
    "                    self.set_filename()\n",
    "            try:\n",
    "                data = self.readUKUS()\n",
    "                if self.kwargs['plot']:\n",
    "                    out_q.put(data)\n",
    "                if self.kwargs['log']:\n",
    "                    self.write_to_file(data,self.filename)\n",
    "            except:\n",
    "                pass\n",
    "            time.sleep(self.kwargs['wait'])\n",
    "        out_q.put(None)\n",
    "        \n",
    "        print 'Laser Reader {name} terminated\\n'.format(name = self.name)\n",
    "        \n",
    "    def write_to_file(self,data,filename):\n",
    "        if not os.path.exists(filename):\n",
    "            print 'Creating New File for', self.kwargs.get('today')\n",
    "            try:\n",
    "                os.makedirs(re.match(r'^.*?\\_', self.filename).group(0)[:-1])\n",
    "            except:\n",
    "                print 'Folder already exists'\n",
    "            with open(filename,'a+') as f:\n",
    "                data.to_csv(f,sep=',')\n",
    "        else:\n",
    "            with open(filename,'a+') as f:\n",
    "                data.to_csv(f,sep=',',header=False)\n",
    "        f.close()\n",
    "\n",
    "    def readUKUS(self):\n",
    "        raise(NotImplementedError)\n",
    "\n",
    "    def set_filename(self,date):\n",
    "        raise(NotImplementedError)\n",
    "\n",
    "class ECDL_Reader(LaserReader):\n",
    "    def __init__(self,kwargs={'queue':Queue()}):\n",
    "        LaserReader.__init__(self,kwargs=kwargs,name='ECDL')\n",
    "        self.cols = ['Time', 'absp', 'integerror', 'out0', 'outpid', \n",
    "                     'Slave0 pll_error', 'Slave0 pid_out', 'Slave0 ctrl_temp', \n",
    "                     'Slave1 pll_error', 'Slave1 pid_out', 'Slave1 ctrl_temp', \n",
    "                     'Slave2 pll_error', 'Slave2 pid_out', 'Slave2 ctrl_temp']\n",
    "        self.host = \"192.168.1.118\"\n",
    "        self.set_filename()\n",
    "        \n",
    "    def set_filename(self):\n",
    "        today = datetime.date.today().strftime(\"%Y/%m/%d\")\n",
    "        self.filename = os.path.normpath(os.getcwd()+ \"/Logs/\" + today + \"_ecdl.csv\")\n",
    "    def readUKUS(self):\n",
    "        tn = telnetlib.Telnet(self.host,timeout=60)\n",
    "        tn.write(\"ukus autolock_monitor\\r\\n\")\n",
    "        tn.read_until('state = locked',1)\n",
    "        data = tn.read_until('MASTER STATE', 1)\n",
    "        now = str(datetime.datetime.now())\n",
    "        s=data.split()\n",
    "        master = [s[30:55:1][i] for i in [0,2,3,5,7,9,10,12,14,16,17,19,21,23]]\n",
    "        slaves = [s[89:109][i] for i in [0,2,3,5,7,9,10,12,14,16,17,19]]\n",
    "        tidied=[re.sub(r'(.*H)','', line) for line in master]\n",
    "        slaves=[re.sub(r'(.*H)','', line) for line in slaves]\n",
    "\n",
    "        master = [tidied[i] for i in [0,1,4,5,8,9,12,13]]\n",
    "        slave0 = [tidied[i] for i in [2,3,6,7,10,11]]\n",
    "        slave1 = [slaves[i] for i in [0,1,4,5,8,9]]\n",
    "        slave2 = [slaves[i] for i in [2,3,6,7,10,11]]\n",
    "\n",
    "        master_key=master[0::2]\n",
    "        master_val=map(float,master[1::2])\n",
    "        slave0_key = ['Slave0 '+x for x in slave0[0::2]]\n",
    "        slave0_val = map(float,slave0[1::2])\n",
    "        slave1_key = ['Slave1 '+x for x in slave0[0::2]]\n",
    "        slave1_val = map(float,slave1[1::2])\n",
    "        slave2_key = ['Slave2 '+x for x in slave0[0::2]]\n",
    "        slave2_val = map(float,slave2[1::2])\n",
    "        \n",
    "        d=dict(zip(master_key,master_val)+zip(slave0_key,slave0_val)+zip(slave1_key,slave1_val)+zip(slave2_key,slave2_val))\n",
    "        return pd.DataFrame(d,index=[now])\n",
    "\n",
    "\n",
    "class EDFA_Reader(LaserReader):\n",
    "    def __init__(self,kwargs={'queue':Queue()}):\n",
    "        LaserReader.__init__(self,kwargs=kwargs,name='EDFA')\n",
    "        self.host = \"192.168.1.75\"\n",
    "        self.set_filename()\n",
    "        \n",
    "    def set_filename(self):\n",
    "        today = datetime.date.today().strftime(\"%Y/%m/%d\")\n",
    "        self.filename = os.path.normpath(os.getcwd()+ \"/Logs/\" + today + \"_edfa.csv\")\n",
    "    def readUKUS(self):\n",
    "        tn = telnetlib.Telnet('192.168.1.75',timeout=60)\n",
    "        tn.write('ukus cplot\\r\\n')\n",
    "        tn.read_until(\"UKUS_RACK_ELEC\")\n",
    "        tn.read_until(\"UKUS_RACK_ELEC_DISCRETE\")\n",
    "        data = tn.read_until(\"U\")\n",
    "        now=str(datetime.datetime.now())\n",
    "        sep_data=[re.sub(r'\\x1b(.{,6})H+|    ',',',x) for x in data.splitlines()][2:]\n",
    "        sep_data[-1]=sep_data[-1][:-5]\n",
    "        l=[]\n",
    "        for x in sep_data:\n",
    "            s = re.split(r',',x)\n",
    "            [l.append(item) for item in s]\n",
    "        data = [re.split(':',x) for x in l if 'OK' not in x]\n",
    "        #deletes the lists with only one element which label the two EDFAs\n",
    "        data.pop(12)\n",
    "        data.pop(16)\n",
    "        data[13][0] = 'EDFA_SLAVE2 Setpoint'\n",
    "        data[14][0] = 'EDFA_SLAVE2 Output'\n",
    "        data[15][0] = 'EDFA_SLAVE2 Feedback'\n",
    "        data[17][0] = 'EDFA_SLAVE1 Setpoint'\n",
    "        data[18][0] = 'EDFA_SLAVE1 Output'\n",
    "        data[19][0] = 'EDFA_SLAVE1 Feedback'\n",
    "        for item in data:\n",
    "            item[1] = item[1].split('V')[0]\n",
    "        d=dict(data)\n",
    "        return pd.DataFrame(d,index=[now])"
   ]
  },
  {
   "cell_type": "code",
   "execution_count": 5,
   "metadata": {
    "ExecuteTime": {
     "end_time": "2016-03-28T13:31:33.170000",
     "start_time": "2016-03-28T13:31:33.134000"
    },
    "collapsed": false
   },
   "outputs": [],
   "source": [
    "class Plotter(Thread):\n",
    "    def __init__(self,start_date,end_date,log,name,queue):\n",
    "         #loads the data to plot\n",
    "        Thread.__init__(self, group=None, target=None, name=name,\n",
    "                                  verbose=None)\n",
    "        self.producer_alive = True\n",
    "        self.name = name\n",
    "        self.start_full = start_date\n",
    "        self.end_full = end_date\n",
    "        self.start_date = start_date.split('/')\n",
    "        self.end_date = end_date.split('/')\n",
    "        self.log = log\n",
    "        self.df = pd.DataFrame()\n",
    "        self.queue = queue\n",
    "        \n",
    "    def load(self,save_as_pkl=False):\n",
    "        for year in range(int(self.start_date[0]),int(self.end_date[0])+1):\n",
    "            for month in range(int(self.start_date[1]),int(self.end_date[1])+1):\n",
    "                for day in range(int(self.start_date[2]),int(self.end_date[2])+1):\n",
    "                    filename = \"Logs/%02d/%02d/%02d_\"% (year,month,day) +self.log+\".csv\"\n",
    "                    print filename\n",
    "                    if os.path.exists(filename):\n",
    "                        data = cf.pd.read_csv(filename,index_col = 'Unnamed: 0').dropna()\n",
    "                        self.df=self.df.append(data)\n",
    "                        if save_as_pkl:\n",
    "                            data.to_pickle(filename)\n",
    "                    else:\n",
    "                        print \"Couldn't find \" +filename\n",
    "\n",
    "                   \n",
    "    def plot(self,columns,title=None):\n",
    "        columns = [x for x in columns if x in self.df.columns]\n",
    "        try:\n",
    "            data = self.df[columns]\n",
    "            \n",
    "            #data = self.df[columns].figure(kind='line')\n",
    "   \n",
    "        except:\n",
    "            pass\n",
    "        plot = data.iplot(subplots=True,title=title,shape=(len(columns),1),asFigure=True)\n",
    "        return plot\n",
    "    def plot_all(self):\n",
    "        raise(NotImplementedError)\n",
    "        \n",
    "    def update_plot(self,plot,columns):\n",
    "        columns = [x for x in columns if x in self.df.columns]\n",
    "        data = self.df[columns]\n",
    "        for i,line in enumerate(plot['data']):\n",
    "            line['x'] = data.index.values\n",
    "            line['y'] = data.ix[:,i].values\n",
    "        \n",
    "    def redraw(graphs):\n",
    "        for graph in graphs:\n",
    "            graph.restyle\n",
    "    def run(self):\n",
    "        data = self.queue.get()\n",
    "        self.df = self.df.append(data)\n",
    "        plots = self.plot_all()\n",
    "        for plot in plots:\n",
    "            iplot(plot)\n",
    "        while self.producer_alive or not self.queue.Empty:\n",
    "            data = self.queue.get()\n",
    "            self.df = self.df.append(data)\n",
    "            for i,plot in enumerate(plots):\n",
    "                self.update_plot(plot,self.column_list[i])\n",
    "                \n",
    "            time.sleep(3)\n",
    "        print 'Terminated {name} plotter'.format(name=self.name)\n",
    "class ECDL_Plotter(Plotter):\n",
    "    def __init__(self,start_date,end_date,queue=None):\n",
    "        Plotter.__init__(self,start_date,end_date,'ecdl','ECDLPlotter',queue)\n",
    "        self.column_list=[['absp', 'integerror', 'out0', 'outpid'],['Slave0 ctrl_temp', 'Slave0 pid_out', 'Slave0 pll_error'],\n",
    "                          ['Slave1 ctrl_temp', 'Slave1 pid_out', 'Slave1 pll_error'], ['Slave2 ctrl_temp', 'Slave2 pid_out', 'Slave2 pll_error']]\n",
    "              \n",
    "    def master_plot(self):\n",
    "        columns = self.column_list[0]\n",
    "        title = 'Master Laser Log from %s to %s' % (self.start_full,self.end_full)\n",
    "        return self.plot(columns,title)\n",
    "   \n",
    "        \n",
    "    def slave0_plot(self):\n",
    "        columns = self.column_list[1]\n",
    "        title = 'Slave0 Laser Log from %s to %s' % (self.start_full,self.end_full)\n",
    "        return self.plot(columns,title)\n",
    "        \n",
    "    def slave1_plot(self):\n",
    "        columns= self.column_list[2]\n",
    "        title = 'Slave1 Laser Log from %s to %s' % (self.start_full,self.end_full)\n",
    "        return self.plot(columns,title)\n",
    "    def slave2_plot(self):\n",
    "        columns = self.column_list[3]\n",
    "        title = 'Slave2 Laser Log from %s to %s' % (self.start_full,self.end_full)\n",
    "        return self.plot(columns,title)\n",
    "    def plot_all(self):\n",
    "        p1=self.master_plot()\n",
    "        p2=self.slave0_plot()\n",
    "        p3=self.slave1_plot()\n",
    "        p4=self.slave2_plot()\n",
    "        return p1,p2,p3,p4\n",
    "\n",
    "class EDFA_Plotter(Plotter):\n",
    "    def __init__(self,start_date,end_date,queue=None):\n",
    "        Plotter.__init__(self,start_date,end_date,'edfa','EDFAPlotter',queue)\n",
    "        \n",
    "    def edfa0_plot(self):\n",
    "        columns = ['EDFA_SLAVE0 Current ', 'EDFA_SLAVE0 LM35 ', 'EDFA_SLAVE0 PhdIn ',\n",
    "       'EDFA_SLAVE0 PhdOut ','EDFA_SLAVE0 Vregul ']\n",
    "        title = 'EDFA0 Laser Log from %s to %s' % (self.start_full,self.end_full)\n",
    "        self.plot(columns,title)\n",
    "    \n",
    "    def edfa1_plot(self):\n",
    "        columns = ['EDFA_SLAVE1 Current ', 'EDFA_SLAVE1 LM35 ', 'EDFA_SLAVE1 PhdIn ',\n",
    "       'EDFA_SLAVE1 PhdOut ', 'EDFA_SLAVE1 Vregul ','EDFA_SLAVE1 Setpoint','EDFA_SLAVE1 Output','EDFA_SLAVE1 Feedback']\n",
    "        title = 'EDFA1 Laser Log from %s to %s' % (self.start_full,self.end_full)\n",
    "        self.plot(columns,title)\n",
    "        \n",
    "    def edfa2_plot(self):\n",
    "        columns = ['EDFA_SLAVE2 Current ', 'EDFA_SLAVE2 LM35 ', 'EDFA_SLAVE2 PhdIn ',\n",
    "                    'EDFA_SLAVE2 PhdOut ', 'EDFA_SLAVE2 Vregul','EDFA_SLAVE2 Setpoint','EDFA_SLAVE2 Output','EDFA_SLAVE2 Feedback']\n",
    "        title = 'EDFA2 Laser Log from %s to %s' % (self.start_full,self.end_full)\n",
    "        self.plot(columns,title)\n",
    "        \n",
    "    def plot_all(self):\n",
    "        self.edfa0_plot()\n",
    "        self.edfa1_plot()\n",
    "        self.edfa2_plot()"
   ]
  },
  {
   "cell_type": "code",
   "execution_count": null,
   "metadata": {
    "collapsed": false,
    "scrolled": true
   },
   "outputs": [],
   "source": [
    "\n",
    "e=ECDL_Plotter('2016/03/23','2016/04/01')\n",
    "e.load(save_as_pkl=True)"
   ]
  },
  {
   "cell_type": "code",
   "execution_count": null,
   "metadata": {
    "collapsed": false
   },
   "outputs": [],
   "source": [
    "e.df"
   ]
  },
  {
   "cell_type": "code",
   "execution_count": null,
   "metadata": {
    "collapsed": false,
    "scrolled": true
   },
   "outputs": [],
   "source": [
    "pdb"
   ]
  },
  {
   "cell_type": "code",
   "execution_count": 6,
   "metadata": {
    "collapsed": false,
    "scrolled": true
   },
   "outputs": [],
   "source": [
    "def run():    \n",
    "    q1=Queue()\n",
    "    q2=Queue()\n",
    "    today = datetime.date.today().strftime(\"%Y/%m/%d\")\n",
    "    edfa_producer = EDFA_Reader(kwargs={'queue':q2,'today':today,'log':True,'wait':1,'plot':False})\n",
    "    edfa_producer.start()\n",
    "\n",
    "    ecdl_producer = ECDL_Reader(kwargs={'queue':q1,'today':today,'log':True,'wait':1,'plot':False})\n",
    "    ecdl_producer.start()\n",
    "\n",
    "    producer_pool = [edfa_producer,ecdl_producer]\n",
    "#    ecdl_plotter = ECDL_Plotter(today,today,q1)\n",
    "#    ecdl_plotter.start()\n",
    "\n",
    "#    consumer_pool = [ecdl_plotter]\n",
    "    while 1:\n",
    "        control_process = raw_input('Enter Y to Stop Logging: ')\n",
    "        if control_process == 'Y':\n",
    "            for producer in producer_pool:\n",
    "                producer.running = False\n",
    "                # Joining this to make sure all the producers die\n",
    "                producer.join()\n",
    "\n",
    "#            for consumer in consumer_pool:\n",
    "                 #Ideally consumer should stop once producers die\n",
    "#                consumer.producer_alive = False\n",
    "            break"
   ]
  },
  {
   "cell_type": "code",
   "execution_count": null,
   "metadata": {
    "collapsed": false
   },
   "outputs": [],
   "source": [
    "run()"
   ]
  },
  {
   "cell_type": "code",
   "execution_count": null,
   "metadata": {
    "ExecuteTime": {
     "start_time": "2016-03-28T12:18:59.121Z"
    },
    "collapsed": false,
    "scrolled": false
   },
   "outputs": [],
   "source": [
    "e=EDFA_Plotter('2016/04/01','2016/04/06')\n",
    "e.load()\n",
    "e.edfa1_plot()"
   ]
  },
  {
   "cell_type": "code",
   "execution_count": null,
   "metadata": {
    "collapsed": false,
    "scrolled": true
   },
   "outputs": [],
   "source": [
    "e.df[['EDFA_SLAVE0 PhdOut ','EDFA_SLAVE1 PhdOut ']].plot(subplots=True)\n"
   ]
  },
  {
   "cell_type": "code",
   "execution_count": null,
   "metadata": {
    "collapsed": false
   },
   "outputs": [],
   "source": [
    "e.df.columns"
   ]
  },
  {
   "cell_type": "code",
   "execution_count": null,
   "metadata": {
    "collapsed": false
   },
   "outputs": [],
   "source": [
    "a=cf.pd.read_csv('Logs/2016/03/23_ecdl.csv',index_col='Unnamed: 0')"
   ]
  },
  {
   "cell_type": "code",
   "execution_count": null,
   "metadata": {
    "collapsed": false
   },
   "outputs": [],
   "source": [
    "x = a[\"Slave0 ctrl_temp\"]\n",
    "np.array(x.index)"
   ]
  },
  {
   "cell_type": "markdown",
   "metadata": {},
   "source": [
    "### Queuing Loggers"
   ]
  },
  {
   "cell_type": "code",
   "execution_count": null,
   "metadata": {
    "collapsed": false
   },
   "outputs": [],
   "source": [
    "tn = telnetlib.Telnet('192.168.1.75',timeout=60)\n",
    "tn.write('ukus cplot\\r\\n')\n",
    "tn.read_until(\"UKUS_RACK_ELEC\")\n",
    "tn.read_until(\"UKUS_RACK_ELEC_DISCRETE\")\n",
    "data = tn.read_until(\"U\")\n",
    "now=str(datetime.datetime.now())\n",
    "sep_data=[re.sub(r'\\x1b(.{,6})H+|    ',',',x) for x in data.splitlines()][2:]\n",
    "sep_data[-1]=sep_data[-1][:-5]\n",
    "l=[]\n",
    "for x in sep_data:\n",
    "    s = re.split(r',',x)\n",
    "    [l.append(item) for item in s]\n",
    "data = [re.split(':',x) for x in l if 'OK' not in x]\n",
    "#deletes the lists with only one element which label the two EDFAs\n",
    "data.pop(12)\n",
    "data.pop(16)\n",
    "data[13][0] = 'EDFA_SLAVE2 Setpoint'\n",
    "data[14][0] = 'EDFA_SLAVE2 Output'\n",
    "data[15][0] = 'EDFA_SLAVE2 Feedback'\n",
    "data[17][0] = 'EDFA_SLAVE1 Setpoint'\n",
    "data[18][0] = 'EDFA_SLAVE1 Output'\n",
    "data[19][0] = 'EDFA_SLAVE1 Feedback'\n",
    "for item in data:\n",
    "    item[1] = item[1].split('V')[0]\n",
    "d=dict(data)\n",
    "pd.DataFrame(d,index=[now])"
   ]
  }
 ],
 "metadata": {
  "kernelspec": {
   "display_name": "Python 2",
   "language": "python",
   "name": "python2"
  },
  "language_info": {
   "codemirror_mode": {
    "name": "ipython",
    "version": 2
   },
   "file_extension": ".py",
   "mimetype": "text/x-python",
   "name": "python",
   "nbconvert_exporter": "python",
   "pygments_lexer": "ipython2",
   "version": "2.7.11"
  },
  "latex_envs": {
   "bibliofile": "biblio.bib",
   "cite_by": "apalike",
   "current_citInitial": 1,
   "eqLabelWithNumbers": true,
   "eqNumInitial": 0
  },
  "toc": {
   "toc_cell": false,
   "toc_number_sections": true,
   "toc_threshold": 6,
   "toc_window_display": false
  }
 },
 "nbformat": 4,
 "nbformat_minor": 0
}
