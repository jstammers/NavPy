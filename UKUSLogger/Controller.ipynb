{
 "cells": [
  {
   "cell_type": "code",
   "execution_count": 35,
   "metadata": {
    "ExecuteTime": {
     "end_time": "2016-03-27T15:10:20.713000",
     "start_time": "2016-03-27T15:10:20.695000"
    },
    "collapsed": false
   },
   "outputs": [],
   "source": [
    "%matplotlib notebook\n",
    "import pandas as pd\n",
    "import matplotlib.pyplot as plt\n",
    "#from ipywidgets import *\n",
    "from IPython.display import display\n",
    "from IPython.html import widgets\n",
    "from IPython.utils.traitlets import Unicode\n",
    "\n",
    "class PasswordWidget(widgets.Text):\n",
    "    _view_name = Unicode('PasswordView', sync=True)\n",
    "    \n",
    "plt.style.use('ggplot')\n",
    "\n",
    "#Wait Time for logging\n",
    "wait_button = widgets.FloatText(description='Wait Time (s):')\n",
    "log_check = widgets.Checkbox(description = 'Save Logs:')\n",
    "\n",
    "start_button = widgets.Button(description='Start Logging',width=100)\n",
    "\n",
    "display(wait_button,width=250)\n",
    "display(log_check)\n",
    "display(start_button)"
   ]
  },
  {
   "cell_type": "code",
   "execution_count": null,
   "metadata": {
    "collapsed": true
   },
   "outputs": [],
   "source": []
  }
 ],
 "metadata": {
  "kernelspec": {
   "display_name": "Control (SSH)",
   "language": "python",
   "name": "rik_ssh_administrator_155_198_206_24_control"
  },
  "language_info": {
   "codemirror_mode": {
    "name": "ipython",
    "version": 2
   },
   "file_extension": ".py",
   "mimetype": "text/x-python",
   "name": "python",
   "nbconvert_exporter": "python",
   "pygments_lexer": "ipython2",
   "version": "2.7.11"
  },
  "latex_envs": {
   "bibliofile": "biblio.bib",
   "cite_by": "apalike",
   "current_citInitial": 1,
   "eqLabelWithNumbers": true,
   "eqNumInitial": 0
  },
  "toc": {
   "toc_cell": false,
   "toc_number_sections": true,
   "toc_threshold": 6,
   "toc_window_display": false
  }
 },
 "nbformat": 4,
 "nbformat_minor": 0
}
